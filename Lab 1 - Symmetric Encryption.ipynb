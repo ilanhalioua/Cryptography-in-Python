{
  "metadata": {
    "kernelspec": {
      "name": "python",
      "display_name": "Python (Pyodide)",
      "language": "python"
    },
    "language_info": {
      "codemirror_mode": {
        "name": "python",
        "version": 3
      },
      "file_extension": ".py",
      "mimetype": "text/x-python",
      "name": "python",
      "nbconvert_exporter": "python",
      "pygments_lexer": "ipython3",
      "version": "3.8"
    },
    "toc-autonumbering": false,
    "toc-showcode": false,
    "toc-showmarkdowntxt": false,
    "toc-showtags": true
  },
  "nbformat_minor": 5,
  "nbformat": 4,
  "cells": [
    {
      "cell_type": "markdown",
      "source": "# Notebook for Lab 1 - Symmetric Encryption\n# MADE BY : ALEJANDRO FDEZ-PANIAGUA AND ILAN HALIOUA",
      "metadata": {},
      "id": "2bf79cee-adfc-4906-9455-c92a6b12d43f"
    },
    {
      "cell_type": "markdown",
      "source": "## General goal\nIn this lab you’ll get familiarized with programming (*using*) symmetric encryption algorithms using a modern library. The lab makes use of Python language but it could also be done with Java or C-like languages. \n\n## Specific goals\n- Make use of different data representation formats (byte/ascii, string, hexadecimal, b64). Students should be able to recognize each of the formats and translate from one format to another.\n- Make use of the pyca/cryptography library to encrypt and decrypt simple messages (strings) with block ciphers (AES, Camellia) operated under different modes (ECB, CBC and CTR) and considering padding issues.\n- Make use of a robust pseudo random number generator function/algorithm to generate keys, initialization vectors and nonces.\n- Understand how modifications in the ciphertext affect the decryption result when different operation modes are used.\n- Make use of the pyca/cryptography library to encrypt and decrypt simple messages with stream ciphers (ChaCha20).\n- Make use of the pylfsr library to generate a keystream from a LFSR.",
      "metadata": {},
      "id": "11410c69-5d78-4494-b3e7-e1d71124e849"
    },
    {
      "cell_type": "code",
      "source": "",
      "metadata": {},
      "execution_count": null,
      "outputs": [],
      "id": "daf12f32-3352-4fb3-81c2-50d58c39565d"
    },
    {
      "cell_type": "markdown",
      "source": "## Modules\nCryptography library includes both high level recipes and low-level interfaces to common cryptographic algorithms such as symmetric ciphers, message digests, and key derivation functions. For more details you can consult the following link: https://pypi.org/project/cryptography. For the moment, we are going to directly use the primitives, forgetting about Fernet constructions. You’ll may find useful to have these links as reference:\n- Links to the documentation of the specific sections at stake in this lab:\n- Symmetric encryption: https://cryptography.io/en/latest/hazmat/primitives/symmetric-encryption/\n- Symmetric padding: https://cryptography.io/en/latest/hazmat/primitives/padding/\n- Link to info about os library: https://docs.python.org/3/library/os.html\n- Link to info about base64 library: https://docs.python.org/3/library/base64.html\n- Link info about pylfsr library: https://pypi.org/project/pylfsr/\n- Link to your very first encryption/decryption code snippet example: https://cryptography.io/en/latest/hazmat/primitives/symmetric-encryption/#cryptography.hazmat.primitives.ciphers.Cipher",
      "metadata": {},
      "id": "251612b4-0062-48eb-8001-4ff9834ca032"
    },
    {
      "cell_type": "markdown",
      "source": "## Lab assignment and assessment\nYou are given one Python script/notebook, that contains the headers of all the functions you should develop at the end of this lab. Next, you’ll be guided through several tasks you’ll have to complete in order to do so.\n\nLab 1 assessment will be performed with a test/quiz/exam at the end of the course (along the other lab assessments).",
      "metadata": {},
      "id": "6edc10a8-9941-41c3-9082-c40299e7b934"
    },
    {
      "cell_type": "markdown",
      "source": "# 0. Modules installation and imports",
      "metadata": {},
      "id": "4a61e4e4-d5d0-4f6c-b195-9af155a85efb"
    },
    {
      "cell_type": "code",
      "source": "!pip install cryptography\n!pip install pylfsr",
      "metadata": {},
      "execution_count": 1,
      "outputs": [
        {
          "name": "stdout",
          "output_type": "stream",
          "text": "Requirement already satisfied: cryptography in /opt/conda/lib/python3.10/site-packages (37.0.2)\n\nRequirement already satisfied: cffi>=1.12 in /opt/conda/lib/python3.10/site-packages (from cryptography) (1.15.0)\n\nRequirement already satisfied: pycparser in /opt/conda/lib/python3.10/site-packages (from cffi>=1.12->cryptography) (2.21)\n\nCollecting pylfsr\n\n  Using cached pylfsr-1.0.6-py3-none-any.whl (19 kB)\n\nCollecting numpy\n\n  Using cached numpy-1.23.3-cp310-cp310-manylinux_2_17_x86_64.manylinux2014_x86_64.whl (17.1 MB)\n\nCollecting matplotlib\n\n  Using cached matplotlib-3.6.1-cp310-cp310-manylinux_2_17_x86_64.manylinux2014_x86_64.whl (11.8 MB)\n\nCollecting fonttools>=4.22.0\n\n  Using cached fonttools-4.37.4-py3-none-any.whl (960 kB)\n\nCollecting contourpy>=1.0.1\n\n  Using cached contourpy-1.0.5-cp310-cp310-manylinux_2_17_x86_64.manylinux2014_x86_64.whl (295 kB)\n\nCollecting kiwisolver>=1.0.1\n\n  Using cached kiwisolver-1.4.4-cp310-cp310-manylinux_2_12_x86_64.manylinux2010_x86_64.whl (1.6 MB)\n\nRequirement already satisfied: packaging>=20.0 in /opt/conda/lib/python3.10/site-packages (from matplotlib->pylfsr) (21.3)\n\nCollecting cycler>=0.10\n\n  Using cached cycler-0.11.0-py3-none-any.whl (6.4 kB)\n\nCollecting pillow>=6.2.0\n\n  Using cached Pillow-9.2.0-cp310-cp310-manylinux_2_28_x86_64.whl (3.2 MB)\n\nRequirement already satisfied: pyparsing>=2.2.1 in /opt/conda/lib/python3.10/site-packages (from matplotlib->pylfsr) (3.0.9)\n\nRequirement already satisfied: python-dateutil>=2.7 in /opt/conda/lib/python3.10/site-packages (from matplotlib->pylfsr) (2.8.2)\n\nRequirement already satisfied: six>=1.5 in /opt/conda/lib/python3.10/site-packages (from python-dateutil>=2.7->matplotlib->pylfsr) (1.16.0)\n\nInstalling collected packages: pillow, numpy, kiwisolver, fonttools, cycler, contourpy, matplotlib, pylfsr\n\nSuccessfully installed contourpy-1.0.5 cycler-0.11.0 fonttools-4.37.4 kiwisolver-1.4.4 matplotlib-3.6.1 numpy-1.23.3 pillow-9.2.0 pylfsr-1.0.6\n"
        }
      ],
      "id": "b85a509f-3c33-4eb4-ad6a-0af5f1677ad9"
    },
    {
      "cell_type": "code",
      "source": "from cryptography.hazmat.primitives.ciphers import Cipher, algorithms, modes\n\nfrom cryptography.hazmat.primitives import padding\n\nfrom pylfsr import LFSR\n\nimport base64\n\nimport os \n\nimport secrets",
      "metadata": {},
      "execution_count": 2,
      "outputs": [],
      "id": "cab7834a-1fe4-4426-9ae2-a40e1eacea29"
    },
    {
      "cell_type": "markdown",
      "source": "# 1. Symmetric Block Ciphers\n\nNext, you’ll learn how to encrypt a simple text with symmetric block ciphers. First, you’ll use AES cipher operated under several confidentiality operation modes, and then you’ll be prompted to use other symmetric ciphers (CAMELLIA).\nRead AND USE AS REFERENCE the information provided in the documentation web page of the pyca/cryptography library for symmetric encryption: https://cryptography.io/en/latest/hazmat/primitives/symmetric-encryption/ ",
      "metadata": {},
      "id": "38f046a6-0a05-4e2d-bbbc-e9e990b44597"
    },
    {
      "cell_type": "markdown",
      "source": "## 1.1 BYTE-LIKE DATA",
      "metadata": {},
      "id": "72539095-246b-46fb-96b6-6d611586644f"
    },
    {
      "cell_type": "markdown",
      "source": "### Task 1.1.1 From byte-like to hex and b64",
      "metadata": {
        "tags": []
      },
      "id": "67da3969-f740-4e70-a1b1-d1542b4ffef6"
    },
    {
      "cell_type": "markdown",
      "source": "First, let’s see a primer in dealing with binary data in Python, as it is a very frequent data format when using cryptography. The code lines for defining the key, the initialization vector and the text that you’ll use in your first encryption are given next:",
      "metadata": {},
      "id": "cc16417f-f856-4157-ab92-5e4414951c91"
    },
    {
      "cell_type": "code",
      "source": "key = b'MN\\\\\\xde\\xa1\\xf7\\x9c\\xcf\\x10A\\xa8\\x1e\\x00\\x0eeq\\xe86\\x1c\\x12\\x18\\xa6\\x10\\xfb\\xb9^\\n,0\\xa2kj'\niv = b'\\x7f\\xb3W\\x84\\x1a9KN~\\xafs\\xfc\\x9f\\xb6\\xcc\\xb8'\nmessage = b'a secret message'",
      "metadata": {},
      "execution_count": 3,
      "outputs": [],
      "id": "782a6805-da1d-4a8f-af28-fa990adf4d23"
    },
    {
      "cell_type": "markdown",
      "source": "Notice the preceding “b” in the previous data in single quotes. It is used to transform the provided (“text”-like) data into binary format (following ASCII codification https://en.wikipedia.org/wiki/ASCII). That is, the code will treat these data as binary. Each byte can be specified by:\n- the ASCII character corresponding to that byte if it is printable, \n- the hexadecimal representation of the byte, preceding the 2-hex digits by “\\x”.\n\nSome examples: \n- b’MN’ corresponds to binary data 4d4e <sub>(16</sub> = 0100 1101 0100 1110 <sub>(2</sub> \n- b’\\xa1\\xf7’ corresponds to binary data a1f7 <sub>(16</sub> = 1010 0001 1111 0111 <sub>(2</sub>\n\nYou can get the hexadecimal representation of binary data using the built-in Python function <code>hex()</code> as follows (note: <code>hex()</code> belongs to the set of Python built-in functions (https://docs.python.org/3/library/functions.html):",
      "metadata": {},
      "id": "ba71328d-7a1f-4499-bc25-102e9a6eaaa5"
    },
    {
      "cell_type": "code",
      "source": "binarydata = b'MN\\\\\\xde\\xa1' \nhex_binarydata = binarydata.hex() \nprint(\"hex_binarydata =\", hex_binarydata)",
      "metadata": {},
      "execution_count": 4,
      "outputs": [
        {
          "name": "stdout",
          "output_type": "stream",
          "text": "hex_binarydata = 4d4e5cdea1\n"
        }
      ],
      "id": "d0e3c4cc-2538-4287-93d2-a729cb5e3de3"
    },
    {
      "cell_type": "markdown",
      "source": "You can get back your bytes from their hex representation as follows using <code>bytes.fromhex()</code> (https://docs.python.org/3/library/stdtypes.html?highlight=fromhex#bytes.fromhex):",
      "metadata": {},
      "id": "29cc8ece-75e8-4bbf-80fa-a8ac8ac6b639"
    },
    {
      "cell_type": "code",
      "source": "retrieved_binarydata = bytes.fromhex(hex_binarydata) \nprint(\"retrieved_binarydata =\", retrieved_binarydata)",
      "metadata": {},
      "execution_count": 5,
      "outputs": [
        {
          "name": "stdout",
          "output_type": "stream",
          "text": "retrieved_binarydata = b'MN\\\\\\xde\\xa1'\n"
        }
      ],
      "id": "0cb47636-ee4c-4368-8139-ce66d720faa3"
    },
    {
      "cell_type": "markdown",
      "source": "Other codification that can be used to deal in a print-friendly manner with binary data is B64 (https://en.wikipedia.org/wiki/Base64). \n\nAn option is to use the Python module base64 (https://docs.python.org/3/library/base64.html). In order to use it you have to import the module in your code (you should have done it in section 0) and use <code>base64.b64encode()</code> as follows:",
      "metadata": {},
      "id": "40ee93e9-3b05-45fc-964a-aab4f3275c07"
    },
    {
      "cell_type": "code",
      "source": "# import base64 \n\nb64_binarydata = base64.b64encode(binarydata)\nprint(\"b64_binarydata =\",b64_binarydata)",
      "metadata": {},
      "execution_count": 6,
      "outputs": [
        {
          "name": "stdout",
          "output_type": "stream",
          "text": "b64_binarydata = b'TU5c3qE='\n"
        }
      ],
      "id": "2c7e8932-2f6c-478c-8fa9-8afdecafe8f5"
    },
    {
      "cell_type": "markdown",
      "source": "As before, you can get your bytes back from B64 as follows using <code>base64.b64decode()</code>:",
      "metadata": {},
      "id": "fad3bc95-c673-410f-a775-9532b937989e"
    },
    {
      "cell_type": "code",
      "source": "retrieved_binarydata = base64.b64decode(b64_binarydata)\nprint(\"retrieved_binarydata =\", retrieved_binarydata)",
      "metadata": {},
      "execution_count": 7,
      "outputs": [
        {
          "name": "stdout",
          "output_type": "stream",
          "text": "retrieved_binarydata = b'MN\\\\\\xde\\xa1'\n"
        }
      ],
      "id": "f2669b60-2a20-472b-9dd0-9e9f51ba9862"
    },
    {
      "cell_type": "markdown",
      "source": "#### TASK\n<mark>Represent the given key, IV and message text in hexadecimal and B64 and check that you understand how binary data is provided and represented. Undo the hex and B64 representations by retrieving back the bytes and print the results.</mark>",
      "metadata": {},
      "id": "b6771b2d-067d-47b5-a5df-0857f89ba3ba"
    },
    {
      "cell_type": "code",
      "source": "key = b'MN\\\\\\xde\\xa1\\xf7\\x9c\\xcf\\x10A\\xa8\\x1e\\x00\\x0eeq\\xe86\\x1c\\x12\\x18\\xa6\\x10\\xfb\\xb9^\\n,0\\xa2kj'\niv = b'\\x7f\\xb3W\\x84\\x1a9KN~\\xafs\\xfc\\x9f\\xb6\\xcc\\xb8'\nmessage = b'a secret message'\nkey_hex = key.hex()\nmessage_hex = message.hex()\niv_hex = iv.hex()\nkey_64 = base64.b64encode(key)\nmessage_64 = base64.b64encode(message)\niv_64 = base64.b64encode(iv)\n\nprint(\"Data in hexadecimal base : \")\nprint(\"key\",key_hex, \"back: \", bytes.fromhex(key_hex))\nprint(\"message\",message_hex, \"back: \", bytes.fromhex(message_hex))\nprint(\"iv\",iv_hex, \"back: \", bytes.fromhex(iv_hex))\nprint(\"Data in base64 : \")\nprint(\"key\",key_64, \"back : \", base64.b64decode(key_64))\nprint(\"message\",message_64, \"back : \", base64.b64decode(message_64))\nprint(\"iv\",iv_64,\"back : \", base64.b64decode(iv_64))\n\n\n",
      "metadata": {},
      "execution_count": 5,
      "outputs": [
        {
          "name": "stdout",
          "output_type": "stream",
          "text": "Data in hexadecimal base : \n\nkey 4d4e5cdea1f79ccf1041a81e000e6571e8361c1218a610fbb95e0a2c30a26b6a back:  b'MN\\\\\\xde\\xa1\\xf7\\x9c\\xcf\\x10A\\xa8\\x1e\\x00\\x0eeq\\xe86\\x1c\\x12\\x18\\xa6\\x10\\xfb\\xb9^\\n,0\\xa2kj'\n\nmessage 6120736563726574206d657373616765 back:  b'a secret message'\n\niv 7fb357841a394b4e7eaf73fc9fb6ccb8 back:  b'\\x7f\\xb3W\\x84\\x1a9KN~\\xafs\\xfc\\x9f\\xb6\\xcc\\xb8'\n\nData in base64 : \n\nkey b'TU5c3qH3nM8QQageAA5lceg2HBIYphD7uV4KLDCia2o=' back :  b'MN\\\\\\xde\\xa1\\xf7\\x9c\\xcf\\x10A\\xa8\\x1e\\x00\\x0eeq\\xe86\\x1c\\x12\\x18\\xa6\\x10\\xfb\\xb9^\\n,0\\xa2kj'\n\nmessage b'YSBzZWNyZXQgbWVzc2FnZQ==' back :  b'a secret message'\n\niv b'f7NXhBo5S05+r3P8n7bMuA==' back :  b'\\x7f\\xb3W\\x84\\x1a9KN~\\xafs\\xfc\\x9f\\xb6\\xcc\\xb8'\n"
        }
      ],
      "id": "31027415-69a0-401b-b64d-7783ea5018cd"
    },
    {
      "cell_type": "markdown",
      "source": "## 1.2 AES256 - CBC MODE",
      "metadata": {},
      "id": "fd59a844-9c57-4ba4-969b-42daededd4d7"
    },
    {
      "cell_type": "markdown",
      "source": "### Task 1.2.1 Encrypt/decrypt with AES 256 CBC",
      "metadata": {
        "tags": []
      },
      "id": "55f516c7-162f-486a-a389-bbee2c8f022a"
    },
    {
      "cell_type": "markdown",
      "source": "Now, let’s encrypt a simple text (message) using the AES cipher with a 256-bit key and operating the cipher under CBC mode.\n\nRead the information and take the code provided as example in the following web page section:\n\nhttps://cryptography.io/en/latest/hazmat/primitives/symmetric-encryption/#cryptography.hazmat.primitives.ciphers.Cipher \n\nNotice that Cipher is a general construction that can be instantiated with a specific algorithm, mode and backend (note: We will rely on the default backend but if you want to know more about backends, read this web page: https://cryptography.io/en/latest/hazmat/backends/). \n\nIn this case we’ll use the classes <code>algorithms.AES(..)</code> and <code>modes.CBC(..)</code> for the first two parameters.\n\nNotice also that in the example in the web page\nhttps://cryptography.io/en/latest/hazmat/primitives/symmetric-encryption/#cryptography.hazmat.primitives.ciphers.Cipher\nthe key and iv data are randomly obtained.",
      "metadata": {},
      "id": "c608e7d7-afef-497e-a300-db7cf7d9a099"
    },
    {
      "cell_type": "markdown",
      "source": "#### TASK",
      "metadata": {},
      "id": "be2b807b-702b-4a18-9830-a3288b1a2e6b"
    },
    {
      "cell_type": "markdown",
      "source": "<mark>Copy and change the code of the example (given at the web page of the library) so you use the key, iv and message given in Section 1.1. Leave the rest of the code unchanged. Additionally, insert calls to the <code>print()</code> function so the message, key, iv and the results of the encryption and decryption processes are printed. </mark>",
      "metadata": {},
      "id": "e540fffb-c801-469c-b449-2e2445b1fc4d"
    },
    {
      "cell_type": "code",
      "source": "# YOUR CODE HERE\n\nimport os\nfrom cryptography.hazmat.primitives.ciphers import Cipher, algorithms, modes\nkey = b'MN\\\\\\xde\\xa1\\xf7\\x9c\\xcf\\x10A\\xa8\\x1e\\x00\\x0eeq\\xe86\\x1c\\x12\\x18\\xa6\\x10\\xfb\\xb9^\\n,0\\xa2kj'\niv = b'\\x7f\\xb3W\\x84\\x1a9KN~\\xafs\\xfc\\x9f\\xb6\\xcc\\xb8'\nmessage = b'a secret message'\nimport os\nfrom cryptography.hazmat.primitives.ciphers import Cipher, algorithms, modes\ncipher = Cipher(algorithms.AES(key), modes.CBC(iv))\nencryptor = cipher.encryptor()\nct = encryptor.update(message) + encryptor.finalize()\ndecryptor = cipher.decryptor()\nprint(\"Plain text message : \", message)\nprint(\"CIPHERTEXT(message encrypted) >> \", ct)\nprint(ct.hex())\nprint(base64.b64encode(ct))\nprint(\"Message decrypted >> \")\ndecryptor.update(ct) + decryptor.finalize()\n",
      "metadata": {},
      "execution_count": 6,
      "outputs": [
        {
          "name": "stdout",
          "output_type": "stream",
          "text": "Plain text message :  b'a secret message'\n\nCIPHERTEXT(message encrypted) >>  b';\\xa6\\xe5\\x85;^\\xc2&\\xec\\x07|\\x03\\xcc\\r\\xaeN'\n\n3ba6e5853b5ec226ec077c03cc0dae4e\n\nb'O6blhTtewibsB3wDzA2uTg=='\n\nMessage decrypted >> \n"
        },
        {
          "execution_count": 6,
          "output_type": "execute_result",
          "data": {
            "text/plain": [
              "b'a secret message'"
            ]
          },
          "metadata": {}
        }
      ],
      "id": "f4503e8c-8f0d-4827-b92b-fdade188bf22"
    },
    {
      "cell_type": "markdown",
      "source": "#### CHECK\nCheck your results with the following values:\n<code>\nmessage = b'a secret message'\nkey = b'MN\\\\\\xde\\xa1\\xf7\\x9c\\xcf\\x10A\\xa8\\x1e\\x00\\x0eeq\\xe86\\x1c\\x12\\x18\\xa6\\x10\\xfb\\xb9^\\n,0\\xa2kj'\nciphertext = b';\\xa6\\xe5\\x85;^\\xc2&\\xec\\x07|\\x03\\xcc\\r\\xaeN'\nhex_ciphertext = 3ba6e5853b5ec226ec077c03cc0dae4e\nb64_ciphertext = b'O6blhTtewibsB3wDzA2uTg=='\nplaintext = b'a secret message'\nhex_plaintext = 6120736563726574206d657373616765\nb64_plaintext = b'YSBzZWNyZXQgbWVzc2FnZQ=='\n</code>",
      "metadata": {},
      "id": "93aea727-e639-46b3-b7f9-d4db0d98a0fa"
    },
    {
      "cell_type": "markdown",
      "source": "#### QUESTION\n\n<mark>Which length in bytes has the input data to encrypt in Task 1.2.2? </mark>\n\n<mark>And the output ciphertext? </mark>\n\nNotice that you may use the built-in function <code>len(..)</code> to get the length of an object (https://docs.python.org/3/library/functions.html#len).",
      "metadata": {},
      "id": "9e27861f-0725-4df5-907b-9d13728e5a2d"
    },
    {
      "cell_type": "code",
      "source": "# YOUR CODE HERE\nprint(\"The input data to encrypt has length : \", len(message))\nprint(\"The output data (encrypted message, ciphertext), has length: \", len(ct))",
      "metadata": {},
      "execution_count": 7,
      "outputs": [
        {
          "name": "stdout",
          "output_type": "stream",
          "text": "The input data to encrypt has length :  16\n\nThe output data (encrypted message, ciphertext), has length:  16\n"
        }
      ],
      "id": "94b14404-a607-4363-9927-95e8ace00548"
    },
    {
      "cell_type": "markdown",
      "source": "### Task 1.2.2 Adding padding to AES 256 CBC",
      "metadata": {
        "tags": []
      },
      "id": "5f4ab2af-7382-4c5c-ad25-bd67e0a5a8db"
    },
    {
      "cell_type": "markdown",
      "source": "Now let’s play with the length of the message to encrypt! In the previous exercise you encrypted a message that has an exact length of 16 characters, that is, the AES block size. Try to encrypt a longer message whose length in characters is not multiple of 16. You’ll get an error for sure! It is because if you need to encrypt a message with length not multiple of the cipher block size and you are using CBC operation mode, you need to add padding to your input so its length satisfies that condition.\n\nRead the information provided in the documentation web page of the pyca/cryptography library on how the library deals with symmetric padding:\nhttps://cryptography.io/en/latest/hazmat/primitives/padding/\n\nStudy the code in the example provided to illustrate the PKCS7 padding here:\nhttps://cryptography.io/en/latest/hazmat/primitives/padding/#cryptography.hazmat.primitives.padding.PKCS7\n\nNotice that you have to import the padding module from the pyca/cryptography library (if you have not done it in Section 0). Notice also that the correct order to combine padding-encryption and decryption-unpadding is the following one:\n1. Pad the data to encrypt to obtain the padded data\n2. Encrypt the padded data to obtain the encrypted text\n3. --- (simulation of data exchange) ----\n4. Decrypt the encrypted text to obtain the padded plaintext\n5. Unpad the padded plaintext to obtain the original plaintext\n\n#### TASK \n<mark>After studying it, incorporate PKCS7 padding in your previous code. </mark>",
      "metadata": {},
      "id": "90e79028-8877-4503-a6a8-f5522004e18b"
    },
    {
      "cell_type": "code",
      "source": "# YOUR CODE HERE\nkey = b'MN\\\\\\xde\\xa1\\xf7\\x9c\\xcf\\x10A\\xa8\\x1e\\x00\\x0eeq\\xe86\\x1c\\x12\\x18\\xa6\\x10\\xfb\\xb9^\\n,0\\xa2kj'\niv = b'\\x7f\\xb3W\\x84\\x1a9KN~\\xafs\\xfc\\x9f\\xb6\\xcc\\xb8'\nmessage = b'a secret message here'#plain text message length not multiple of 16 bytes, key length\npadder = padding.PKCS7(128).padder()\npadded_data = padder.update(message)\npadded_data += padder.finalize()\nprint(\"Padded data : \",padded_data)\nprint(\"length : \", len(padded_data))\n#now, encrypt the padded message using Aes as done before...\ncipher = Cipher(algorithms.AES(key), modes.CBC(iv))\nencryptor = cipher.encryptor()\nct = encryptor.update(padded_data) + encryptor.finalize()\ndecryptor = cipher.decryptor()\nprint(\"Encrypted padded data : \",ct)\npadded_message = decryptor.update(ct) + decryptor.finalize()\nunpadder = padding.PKCS7(128).unpadder()\nplaintext = unpadder.update(padded_data)\nplaintext = plaintext + unpadder.finalize()\nprint(\"Decrypted padded data : \",padded_message)\nprint(\"Decrypted unpadded data : \", plaintext)\n\n\n\n",
      "metadata": {},
      "execution_count": 45,
      "outputs": [
        {
          "name": "stdout",
          "output_type": "stream",
          "text": "Padded data :  b'a secret message here\\x0b\\x0b\\x0b\\x0b\\x0b\\x0b\\x0b\\x0b\\x0b\\x0b\\x0b'\n\nlength :  32\n\nEncrypted padded data :  b';\\xa6\\xe5\\x85;^\\xc2&\\xec\\x07|\\x03\\xcc\\r\\xaeN\\x10A\\x05#\\xdd $\\x07q#\\x05\\x9d\\x9aS:\\xb6'\n\nDecrypted padded data :  b'a secret message here\\x0b\\x0b\\x0b\\x0b\\x0b\\x0b\\x0b\\x0b\\x0b\\x0b\\x0b'\n\nDecrypted unpadded data :  b'a secret message here'\n"
        }
      ],
      "id": "1a2ae124-d7ee-4b46-8b3e-f42705c13d05"
    },
    {
      "cell_type": "markdown",
      "source": "#### CHECK\nYour previous AES256-CBC code, updated to include PKCS7 padding, with the data provided in Section 1.1 (key, iv and message), should provide the result shown next:\n<code>\nmessage = b'a secret message'\npadded_message = b'a secret message\\x10\\x10\\x10\\x10\\x10\\x10\\x10\\x10\\x10\\x10\\x10\\x10\\x10\\x10\\x10\\x10' length =  32\nciphertext = b';\\xa6\\xe5\\x85;^\\xc2&\\xec\\x07|\\x03\\xcc\\r\\xaeNq\\xb6\\xb8\\xb5\\x06\\xeeJ\\xd9\\xfb\\x004\\xb5\\xac\\x9e}\\xf0'\nhex_ciphertext = 3ba6e5853b5ec226ec077c03cc0dae4e71b6b8b506ee4ad9fb0034b5ac9e7df0\npadded_plaintext = b'a secret message\\x10\\x10\\x10\\x10\\x10\\x10\\x10\\x10\\x10\\x10\\x10\\x10\\x10\\x10\\x10\\x10'\nhex_padded_plaintext = 6120736563726574206d65737361676510101010101010101010101010101010\nplaintext = b'a secret message'\nhex_plaintext = 6120736563726574206d657373616765\n</code>",
      "metadata": {},
      "id": "c2f66779-a265-4f34-89d8-d87097e375fd"
    },
    {
      "cell_type": "markdown",
      "source": "#### QUESTION\n\n<mark>Which length in bytes has the input data to encrypt in Task 1.2.2? </mark>\n\n<mark>Which length in bytes has the output ciphertext in Task 1.2.2? </mark>\n\n<mark>How many bytes have been added as PKCS7 padding? </mark>\n\n<mark>Which value has been used in the bytes added as padding? </mark>",
      "metadata": {},
      "id": "a61c6832-88a8-4e53-8d30-685fa35d793a"
    },
    {
      "cell_type": "code",
      "source": "# YOUR CODE HERE\n#the input data tp encrypt had length 16 bytes = 128 bits (multiple of block length in AES , which is 16 bytes)\n#the length in bytes of the ct is 32 since we called the padd function and it added 16 more bytes even though it was not neccessary since we coul encrypt it with 16 already\n#16 bytes were added when padding the plain text message to later encrypt using AES with block size 16\n#the binary value 10101010101010101010101010101010(32 more bits = 16 more bytes) has been added as padding to the message\n",
      "metadata": {},
      "execution_count": null,
      "outputs": [],
      "id": "7ae11153-3351-4c68-9aa3-f57352138efc"
    },
    {
      "cell_type": "markdown",
      "source": "YOUR ANSWER HERE",
      "metadata": {},
      "id": "36f389e0-5dfe-43ef-a4b2-4087a3c66054"
    },
    {
      "cell_type": "markdown",
      "source": "### Task 1.2.3 Checking AES 256 CBC PKCS7",
      "metadata": {
        "tags": []
      },
      "id": "1c877bd3-864c-4909-b080-e4bbd2ca001b"
    },
    {
      "cell_type": "markdown",
      "source": "#### TASK",
      "metadata": {},
      "id": "31541dea-27fb-4d3c-bc63-3df4fc29393c"
    },
    {
      "cell_type": "markdown",
      "source": "<mark>Check that your code works correctly by encrypting <code>other_message</code>, a message with 25 characters (length not multiple of 16) and provided next, and the same <code>key</code> and <code>iv</code> already used. </mark>",
      "metadata": {},
      "id": "cd1d4933-84ac-4569-82ac-d2d324455078"
    },
    {
      "cell_type": "code",
      "source": "# YOUR CODE HERE\nkey = b'MN\\\\\\xde\\xa1\\xf7\\x9c\\xcf\\x10A\\xa8\\x1e\\x00\\x0eeq\\xe86\\x1c\\x12\\x18\\xa6\\x10\\xfb\\xb9^\\n,0\\xa2kj'\niv = b'\\x7f\\xb3W\\x84\\x1a9KN~\\xafs\\xfc\\x9f\\xb6\\xcc\\xb8'\nmessage = b'a secret message not multiple of 16'#plain text message length not multiple of 16 bytes, key length\nprint(len(message))\npadder = padding.PKCS7(128).padder()\npadded_data = padder.update(message)\npadded_data += padder.finalize()\nprint(\"Padded data : \",padded_data)\nprint(\"length : \", len(padded_data))\n#now, encrypt the padded message using Aes as done before...\ncipher = Cipher(algorithms.AES(key), modes.CBC(iv))\nencryptor = cipher.encryptor()\nct = encryptor.update(padded_data) + encryptor.finalize()\ndecryptor = cipher.decryptor()\nprint(\"Encrypted padded data : \",ct)\npadded_message = decryptor.update(ct) + decryptor.finalize()\nunpadder = padding.PKCS7(128).unpadder()\nplaintext = unpadder.update(padded_data)\nplaintext = plaintext + unpadder.finalize()\nprint(\"Decrypted padded data : \",padded_message)\nprint(\"Decrypted unpadded data : \", plaintext)\n\n\n\n\n",
      "metadata": {},
      "execution_count": 46,
      "outputs": [
        {
          "name": "stdout",
          "output_type": "stream",
          "text": "35\n\nPadded data :  b'a secret message not multiple of 16\\r\\r\\r\\r\\r\\r\\r\\r\\r\\r\\r\\r\\r'\n\nlength :  48\n\nEncrypted padded data :  b';\\xa6\\xe5\\x85;^\\xc2&\\xec\\x07|\\x03\\xcc\\r\\xaeN\\\\\\xe2\\xa1\\xe5\\x1d\\x94p2Xa\\xd4\\xa1\\xb7\\x17\\xcc\\xf1G\\xfaq\\xb8?\\x19\\x06\\xcc\\x95\\xd1\\x0e\\xa5\\xdb\\t?e'\n\nDecrypted padded data :  b'a secret message not multiple of 16\\r\\r\\r\\r\\r\\r\\r\\r\\r\\r\\r\\r\\r'\n\nDecrypted unpadded data :  b'a secret message not multiple of 16'\n"
        }
      ],
      "id": "fff53453-54d7-4c49-beb8-b4c848e55c52"
    },
    {
      "cell_type": "markdown",
      "source": "#### CHECK\nYou should get the following results:\n<code>\nother_message = b'This message is important'\npadded_other_message = b'This message is important\\x07\\x07\\x07\\x07\\x07\\x07\\x07'\nlength =  32\nciphertext = b';\\xa6\\xe5\\x85;^\\xc2&\\xec\\x07|\\x03\\xcc\\r\\xaeNq\\xb6\\xb8\\xb5\\x06\\xeeJ\\xd9\\xfb\\x004\\xb5\\xac\\x9e}\\xf0'\nhex_ciphertext = 3ba6e5853b5ec226ec077c03cc0dae4e71b6b8b506ee4ad9fb0034b5ac9e7df0\npadded_plaintext = b'a secret message\\x10\\x10\\x10\\x10\\x10\\x10\\x10\\x10\\x10\\x10\\x10\\x10\\x10\\x10\\x10\\x10'\nhex_padded_plaintext = 6120736563726574206d65737361676510101010101010101010101010101010\nplaintext = b'a secret message'\nhex_plaintext = 6120736563726574206d657373616765\n</code>",
      "metadata": {},
      "id": "51843fba-b668-49ec-b384-edd142892108"
    },
    {
      "cell_type": "markdown",
      "source": "#### QUESTION",
      "metadata": {},
      "id": "5e136e5f-07ee-4d43-95cc-977ba41de0db"
    },
    {
      "cell_type": "markdown",
      "source": "<mark>Which length in bytes has the input data to encrypt in Task 1.2.3?</mark>\n\n<mark>Which length in bytes has the output ciphertext in Task 1.2.3?</mark>\n\n<mark>How many bytes have been added as PKCS7 padding?</mark> \n\n<mark>Which value has been used in the bytes added as padding?</mark>",
      "metadata": {},
      "id": "bac36ce9-3c4e-4bd1-b3d2-1bbaf8be36f0"
    },
    {
      "cell_type": "code",
      "source": "# YOUR CODE HERE\n#the input data before has length 25 Bytes which is not a valid length to encrypt using 16 B block size AES so padded is needed to get to 32 Bytes at least\n#the output ct has length 25 Bytes since the ct has been decrypted and unpadded leading to the original message == plaintext\n#7 Bytes have been added as padding to the 25 Bytes Plain text, in order to be able to separate the data into blocks of size 16 and encrypt using AES\n#the hexadecmal value 0X07070707070707 which is 0111000001110000011100000111000001110000011100000111 in binary",
      "metadata": {},
      "execution_count": null,
      "outputs": [],
      "id": "6d524ada-9296-4f62-8e91-42f52ca14f6a"
    },
    {
      "cell_type": "markdown",
      "source": "YOUR ANSWER HERE",
      "metadata": {},
      "id": "8f1445bc-bb24-443c-9f43-9d45429eb50d"
    },
    {
      "cell_type": "markdown",
      "source": "### Task 1.2.4 Wrapping AES 256 CBC PKCS7 encryption/decryption in functions",
      "metadata": {
        "tags": []
      },
      "id": "94750388-89d7-4af5-b4d3-74ce2cb092b3"
    },
    {
      "cell_type": "markdown",
      "source": "#### TASK\n\n<mark>Let’s wrap your AES256-CBC-PKCS7 code in two functions, one for encryption and another one for decryption. Next you have the headers that you should use for these two functions.</mark>",
      "metadata": {},
      "id": "e95d8146-f16d-46ab-9680-37fc22cd58ff"
    },
    {
      "cell_type": "code",
      "source": "def aes256_cbc_pkcs7_encrypt(data_to_encrypt, key, iv):\n    #We will basically do the following :\n    #Step 1: Pad the data to have a length multiple of 16 Bytes\n    padder = padding.PKCS7(128).padder()\n    padded_data = padder.update(data_to_encrypt)\n    padded_data += padder.finalize()\n    #Step 2: Encrypt the padded data to encrypt using AES with 16 Bytes blocks size\n    cipher = Cipher(algorithms.AES(key), modes.CBC(iv))\n    encryptor = cipher.encryptor()\n    ciphertext = encryptor.update(padded_data) + encryptor.finalize()\n    return ciphertext\n\ndef aes256_cbc_pkcs7_decrypt(encrypted_data, key, iv):\n    #We will basically do the following :\n    #Step 1: Decrypt the padded encrypted_data \n    cipher = Cipher(algorithms.AES(key), modes.CBC(iv))\n    decryptor = cipher.decryptor()\n    padded_plaintext = decryptor.update(encrypted_data) + decryptor.finalize()\n    #Step 2 : Unpad the padded part\n    unpadder = padding.PKCS7(128).unpadder()\n    plaintext = unpadder.update(padded_plaintext)\n    plaintext = message +unpadder.finalize()\n    return message\n\n\nkey = b'MN\\\\\\xde\\xa1\\xf7\\x9c\\xcf\\x10A\\xa8\\x1e\\x00\\x0eeq\\xe86\\x1c\\x12\\x18\\xa6\\x10\\xfb\\xb9^\\n,0\\xa2kj'\niv = b'\\x7f\\xb3W\\x84\\x1a9KN~\\xafs\\xfc\\x9f\\xb6\\xcc\\xb8'\nmessage = b'My name is Alejandro'#plain text message length not multiple of 16 bytes, key length\nprint(len(message))\nct = aes256_cbc_pkcs7_encrypt(message, key, iv)\nprint(\"Ciphertext : \", ct)\nplaintext = aes256_cbc_pkcs7_decrypt(ct, key, iv)\nprint(\"Plaintext decrypted from ciphertext : \", plaintext)\n",
      "metadata": {},
      "execution_count": 76,
      "outputs": [
        {
          "name": "stdout",
          "output_type": "stream",
          "text": "20\n\nCiphertext :  b'\\xd2\\xfe%\\xf6\\xa1Ti\\xd5\\x81\\x14KC*\\x7f\\x81\\x03\\xa1\\\\1\\xb4zw\\xa0\\xee\\xa2\\x11\\xb3n\\xf9j\\xfe\\x93'\n\nPlaintext decrypted from ciphertext :  b'My name is Alejandro'\n"
        }
      ],
      "id": "5956bf40-d675-4133-aa55-4075c6984894"
    },
    {
      "cell_type": "markdown",
      "source": "#### CHECK",
      "metadata": {
        "tags": []
      },
      "id": "310159cf-d80b-4dc8-b71a-0b592dde0851"
    },
    {
      "cell_type": "markdown",
      "source": "Test your functions with the data and results of Task 1.2.3",
      "metadata": {},
      "id": "52ab9bc9-63f2-4096-9b6a-82f8772ee00d"
    },
    {
      "cell_type": "markdown",
      "source": "### Task 1.2.5 Checking AES 256 CBC PKCS7 against CyberChef",
      "metadata": {
        "tags": []
      },
      "id": "87b21eed-6371-44ad-b4e9-81337f9669f7"
    },
    {
      "cell_type": "markdown",
      "source": "#### TASK",
      "metadata": {},
      "id": "eb19f89f-050a-4614-b2ae-9f553831a29f"
    },
    {
      "cell_type": "markdown",
      "source": "<mark> Test again your AES256-CBC-PKCS7 function but this time check your results using the web page tool CyberChef: https://gchq.github.io/CyberChef/ . You have to select, in the left sidebar, 'AES Encrypt' from 'Encryption / Encoding' and CBC mode.  </mark>",
      "metadata": {},
      "id": "c87bf5df-a12d-4648-a088-0891d9a59e77"
    },
    {
      "cell_type": "markdown",
      "source": "## 1.3 AES256 - ECB MODE",
      "metadata": {},
      "id": "863da11e-419b-4b31-a11e-160cbbfa2bd9"
    },
    {
      "cell_type": "markdown",
      "source": "Let’s now use the ECB operation mode. It is the simplest of all the confidentiality operation modes and does not need any parameter. You can consult the library documentation for this mode here: https://cryptography.io/en/latest/hazmat/primitives/symmetric-encryption/#cryptography.hazmat.primitives.ciphers.modes.ECB",
      "metadata": {},
      "id": "31fb1f68-974d-4693-a28d-3e00edc2136a"
    },
    {
      "cell_type": "markdown",
      "source": "### Task 1.3.1 Encrypt/decrypt with AES 256 ECB PKCS7",
      "metadata": {
        "tags": []
      },
      "id": "9b53e9c1-9a6f-4e28-9872-d157df324d66"
    },
    {
      "cell_type": "markdown",
      "source": "#### TASK\n\n<mark>Write a new encryption and decryption code based on your AES256-CBC-PKCS7 code but that makes use of the ECB mode instead of the CBC one. Wrap the code in two functions (headers given below).</mark>",
      "metadata": {},
      "id": "a4668323-0608-44a6-ae6b-37c1f3af11f8"
    },
    {
      "cell_type": "code",
      "source": "def aes256_ecb_pkcs7_encrypt(data_to_encrypt, key):\n    #We will basically do the following :\n    #Step 1: Pad the data to have a length multiple of 16 Bytes\n    padder = padding.PKCS7(128).padder()\n    padded_data = padder.update(data_to_encrypt)\n    padded_data += padder.finalize()\n    #Step 2: Encrypt the padded data to encrypt using AES with 16 Bytes blocks size\n    cipher = Cipher(algorithms.AES(key), modes.ECB())\n    encryptor = cipher.encryptor()\n    ciphertext = encryptor.update(padded_data) + encryptor.finalize()\n    return ciphertext    \n\ndef aes256_ecb_pkcs7_decrypt(encrypted_data, key):\n    #We will basically do the following :\n    #Step 1: Decrypt the padded encrypted_data \n    cipher = Cipher(algorithms.AES(key), modes.ECB())\n    decryptor = cipher.decryptor()\n    padded_plaintext = decryptor.update(encrypted_data) + decryptor.finalize()\n    # Step 2: remove the padded part\n    unpadder = padding.PKCS7(128).unpadder()\n    plaintext = unpadder.update(padded_plaintext)\n    plaintext = plaintext +unpadder.finalize()\n    return plaintext\n    #### CHECK\nmessage = b'My name is Alejandro Alejandro'\nkey = b'MN\\\\\\xde\\xa1\\xf7\\x9c\\xcf\\x10A\\xa8\\x1e\\x00\\x0eeq\\xe86\\x1c\\x12\\x18\\xa6\\x10\\xfb\\xb9^\\n,0\\xa2kj'\niv = b'\\x7f\\xb3W\\x84\\x1a9KN~\\xafs\\xfc\\x9f\\xb6\\xcc\\xb8'\nciphertext = aes256_cbc_pkcs7_encrypt(message, key)\nprint(\"Message : \", message)\nprint(\"length\" , len(message))\nprint(\"Encrypted message (padded included) : \",ciphertext)\ndecrypted = aes256_ecb_pkcs7_decrypt(ciphertext, key)\nprint(\"Decrypted message (padded removed) : \",decrypted)\n",
      "metadata": {},
      "execution_count": 81,
      "outputs": [
        {
          "name": "stdout",
          "output_type": "stream",
          "text": "Message :  b'My name is Alejandro Alejandro'\n\nlength 30\n\nEncrypted message (padded included) :  b';yl\\n\\xcdF;v\\x90\\xbf\\x04\\x91\\xd0G\\x84\\xe0\\x1c\\xb8\\x16\\x9fG\\xa6\\x8f\\xea\\x1e\\xdaw\\x94p j\\xad'\n\nDecrypted message (padded removed) :  b'My name is Alejandro Alejandro'\n"
        }
      ],
      "id": "8a081d05-387e-4aa3-929c-08a044a5fb76"
    },
    {
      "cell_type": "markdown",
      "source": "You should obtain the following results if you encrypt <code>message</code> with the same <code>key</code> previously used.\n<code>\nmessage = b'a secret message'\nkey = b'MN\\\\\\xde\\xa1\\xf7\\x9c\\xcf\\x10A\\xa8\\x1e\\x00\\x0eeq\\xe86\\x1c\\x12\\x18\\xa6\\x10\\xfb\\xb9^\\n,0\\xa2kj'\npadded_message = b'a secret message\\x10\\x10\\x10\\x10\\x10\\x10\\x10\\x10\\x10\\x10\\x10\\x10\\x10\\x10\\x10\\x10' \nlength =  32\nciphertext = b'i\\xb0a\\x1b\\x95\\x8f\\x16\\xd6\\xed1\\xc6\\xfc\\xa5\\xab\\xd5F|\\x98\\xfa\\x0b\\x8e\\xab\\xd4\\xd7\\x8e\\x8f\\xf5\\n!&\\xfd\\xbb'\nhex_ciphertext = 69b0611b958f16d6ed31c6fca5abd5467c98fa0b8eabd4d78e8ff50a2126fdbb\npadded_plaintext = b'a secret message\\x10\\x10\\x10\\x10\\x10\\x10\\x10\\x10\\x10\\x10\\x10\\x10\\x10\\x10\\x10\\x10'\nhex_padded_plaintext = 6120736563726574206d65737361676510101010101010101010101010101010\nplaintext = b'a secret message'\nhex_plaintext = 6120736563726574206d657373616765\n</code>",
      "metadata": {},
      "id": "6afebaf1-9d7c-496d-8546-e0fd544e2e3d"
    },
    {
      "cell_type": "markdown",
      "source": "### Task 1.3.2 Checking AES 256 ECB PKCS7 ",
      "metadata": {
        "tags": []
      },
      "id": "00be4e91-67a8-43a0-b92b-90c1587f79d0"
    },
    {
      "cell_type": "markdown",
      "source": "#### TASK\n\n<mark>Test your code now with the message <code>other_message</code>, with a length in char not multiple of 16. </mark>",
      "metadata": {},
      "id": "7d15c07d-4617-43dc-935a-a8ca5362b067"
    },
    {
      "cell_type": "code",
      "source": "other_message = b\"This message is important\" #25 chars that is 25 Bytes long, not multiple of 16 (next is 32 so it will pad another 7 Bytes to it)\nciphertext = aes256_ecb_pkcs7_encrypt(other_message, key)\nprint(\"Message : \", message)\nprint(\"Length : \", len(message))\nprint(\"Ciphertext : \", ciphertext, \"\\nwhere the length is : \", len(ciphertext))\ndecrypted = aes256_ecb_pkcs7_decrypt(ciphertext, key)\nprint(\"Decrypted message (padding removed): \", decrypted)\n ",
      "metadata": {},
      "execution_count": 82,
      "outputs": [
        {
          "name": "stdout",
          "output_type": "stream",
          "text": "Message :  b'My name is Alejandro Alejandro'\n\nLength :  30\n\nCiphertext :  b'\\xb8{\\xe1\\x8e\\x9fc\\xfb\\xaa\\x13y\\xb6\\xf5VQW\\xc4\\xa1\\xd0\\xc1! .\\xff\\x9a\\xb4\\xc9X\\x01\\xc2\\xc9\\xf9\\xd0' \n\nwhere the length is :  32\n\nDecrypted message (padding removed):  b'This message is important'\n"
        }
      ],
      "id": "ada3d61f-c27f-475e-860c-9f3edeb00968"
    },
    {
      "cell_type": "markdown",
      "source": "#### CHECK\n\nYou should obtain the following results:\n<code>\nother_message = b'This message is important'\npadded_other_message = b'This message is important\\x07\\x07\\x07\\x07\\x07\\x07\\x07' \nlength =  32\nciphertext = b'\\xb8{\\xe1\\x8e\\x9fc\\xfb\\xaa\\x13y\\xb6\\xf5VQW\\xc4\\xa1\\xd0\\xc1! .\\xff\\x9a\\xb4\\xc9X\\x01\\xc2\\xc9\\xf9\\xd0'\nhex_ciphertext = b87be18e9f63fbaa1379b6f5565157c4a1d0c121202eff9ab4c95801c2c9f9d0\npadded_plaintext = b'This message is important\\x07\\x07\\x07\\x07\\x07\\x07\\x07'\nhex_padded_plaintext = 54686973206d65737361676520697320696d706f7274616e7407070707070707\nplaintext = b'This message is important'\nhex_plaintext = 54686973206d65737361676520697320696d706f7274616e74\n</code>",
      "metadata": {},
      "id": "ca33ac6e-8f54-44ae-b3d6-d5cd325d6ecd"
    },
    {
      "cell_type": "markdown",
      "source": "### Task 1.3.3 Checking AES 256 ECB PKCS7 against CyberChef",
      "metadata": {
        "tags": []
      },
      "id": "46897429-bb2d-45c9-a258-bf7fc5c905f0"
    },
    {
      "cell_type": "markdown",
      "source": "#### TASK",
      "metadata": {
        "tags": []
      },
      "id": "699cfe0d-7a59-4dcd-9e54-3f6ff8338dd8"
    },
    {
      "cell_type": "markdown",
      "source": "<mark>Test again your AES256-ECB-PKCS7 function but this time check your results using the web page tool CyberChef: https://gchq.github.io/CyberChef/ . You have to select, in the left sidebar, 'AES Encrypt' from 'Encryption / Encoding' and ECB mode. </mark>",
      "metadata": {},
      "id": "6bdba3a1-23fa-4013-a625-1baeacb083f2"
    },
    {
      "cell_type": "markdown",
      "source": "### Task 1.3.4 Generating cryptographically secure random bytes",
      "metadata": {
        "tags": []
      },
      "id": "edc06931-db9e-4c54-b692-33b016020c2b"
    },
    {
      "cell_type": "markdown",
      "source": "Till now you have used fixed and given key and iv in your AES256 code. However, ideally, you should randomly generate these parameters each time you need them, at least in the first encryption step. Notice that it is not the same case in the decryption step, as here you must use the same parameters used in the encryption step if you want to correctly recover the plaintext.\n\nLet’s learn first how to generate <ins>cryptographically secure</ins> random bytes.\n\nRead the information provided in the web page section: https://cryptography.io/en/latest/random-numbers/#random-number-generation\n\nTwo possibilities are highlighted:\n\n- Using the function <code>urandom(..)</code> from the os module (https://docs.python.org/3/library/os.html#os.urandom)\n\n- Using the function <code>token_bytes(..)</code> from the secrets module (https://docs.python.org/3/library/secrets.html#secrets.token_bytes)\n\nYou should have imported both in Section 0.",
      "metadata": {},
      "id": "272dbaa4-06b2-411a-888d-b96f4b39cc15"
    },
    {
      "cell_type": "markdown",
      "source": "#### TASK\n\n<mark>Try both ways with the code shown next. Notice that each time you execute the code, new bytes are obtained.</mark>",
      "metadata": {},
      "id": "09dfd056-a4b0-406e-9ce8-95eeb8cf8806"
    },
    {
      "cell_type": "code",
      "source": "# import os \n# import secrets\n\nprint(os.urandom(16)) # generating 16 random bytes\nprint(secrets.token_bytes(32))   # generating 32 random bytes",
      "metadata": {},
      "execution_count": 63,
      "outputs": [
        {
          "name": "stdout",
          "output_type": "stream",
          "text": "b'\\x9aK\\x15\\xb7\\x80R\\xf39_\\x8f\\xb5!Q\\\\\\xcf_'\n\nb'\\x89Z\\x12F\\x8b\\xca\\x802\\x98\\xbe\\xbci\\x96\\xed\\xe6\\xa1\\x1f\\x88\\xa2\\xdb\\x01\\x0f^$\\xa1XM\\xee*\\xa1S\\x9d'\n"
        }
      ],
      "id": "27c4dac9-0073-4a45-980a-64e56d6ce2c9"
    },
    {
      "cell_type": "markdown",
      "source": "### Task 1.3.5 No-key AES 256 ECB PKCS7 and No-key_no-iv AES 256 CBC PKCS7 encryption functions",
      "metadata": {
        "tags": []
      },
      "id": "d5556397-0e94-4ad8-b41a-d5f12025f8fa"
    },
    {
      "cell_type": "markdown",
      "source": "Let’s change the your AES256-ECB-PKCS7 encryption code so if no key is provided, the key is randomly generated. Both the ciphertext and the key should be provided as output. Use the code provided below 14 as guide to write a new function <code>aes256_ecb_pkcs7_encrypt_rnd(..)</code> that incorporates this functionality. \n\nNote that the function expects two parameters but by writing <code>key=None</code> in the function header for the second one, we allow its absence (that is, it is optional to call the function with a second parameter) and at the same time we provide a default value if it is not provided (in this case this default value is the <code>None</code> value). This means also that, if the key value is not provided, we have to provide a key value inside the function code (in the provided code <code>os.urandom(..)</code> is used to generate this value randomly). As the key value is needed for decryption, notice that we also return it together with the resulting ciphertext. \n\nThe same happens with the initialization vector <code>iv</code> in the case of the CBC mode. Notice that in the case of AES cipher, the <code>iv</code> size is the same as the block size, that is, 16 bytes.",
      "metadata": {},
      "id": "81d10f9d-b188-4a7b-9081-e8b51f76bd7f"
    },
    {
      "cell_type": "markdown",
      "source": "#### TASK",
      "metadata": {},
      "id": "ab29d394-863e-4eb6-9d67-d9ae834fad0a"
    },
    {
      "cell_type": "markdown",
      "source": "<mark>Re-write the encryption functions as explained taking the following headers and code as starting point.</mark>",
      "metadata": {},
      "id": "5ab2ebf2-e785-4155-8d58-acd4e8d2642a"
    },
    {
      "cell_type": "code",
      "source": "def aes256_ecb_pkcs7_encrypt_rnd(data_to_encrypt, key=None): #recall that ECB op mode doesnt need the initialization vector ,iv\n    if key is None:\n        key = os.urandom(16) \n        #We will basically do the following :\n        #Step 1: Pad the data to have a length multiple of 16 Bytes\n        padder = padding.PKCS7(128).padder()\n        padded_data = padder.update(data_to_encrypt)\n        padded_data += padder.finalize()\n        #Step 2: Encrypt the padded data to encrypt using AES with 16 Bytes blocks size\n        cipher = Cipher(algorithms.AES(key), modes.ECB())\n        encryptor = cipher.encryptor()\n        ciphertext = encryptor.update(padded_data) + encryptor.finalize()\n    return ciphertext, key\n\ndef aes256_cbc_pkcs7_encrypt_rnd(data_to_encrypt, key=None, iv=None):\n    #we set random 16 bytes value for the key and the iv here: \n    key = os.urandom(16)\n    iv = os.urandom(16) #must be the same size\n    #We will basically do the following :\n    #Step 1: Pad the data to have a length multiple of 16 Bytes\n    padder = padding.PKCS7(128).padder()\n    padded_data = padder.update(data_to_encrypt)\n    padded_data += padder.finalize()\n    #Step 2: Encrypt the padded data to encrypt using AES with 16 Bytes blocks size\n    cipher = Cipher(algorithms.AES(key), modes.CBC(iv))\n    encryptor = cipher.encryptor()\n    ciphertext = encryptor.update(padded_data) + encryptor.finalize()\n    return ciphertext, key, iv",
      "metadata": {},
      "execution_count": 90,
      "outputs": [],
      "id": "a69d94f9-a83d-4f5d-8fab-ed7ac7b80ed2"
    },
    {
      "cell_type": "markdown",
      "source": "#### CHECK\n\nOnce you have the code running, try to encrypt and decrypt the same message and check that different keys and ciphertext are obtained.",
      "metadata": {},
      "id": "89abb6d7-be63-4916-b236-a6bd45ee854a"
    },
    {
      "cell_type": "code",
      "source": "# CHECK ECB FUNCTION\n\nprint(\"# ECB FIRST RUN \")\nciphertext1, randomkey1 = aes256_ecb_pkcs7_encrypt_rnd(b\"This message is important\")\nprint(\"hex_randomkey1 =\", randomkey1.hex(), \"\\nhex_ciphertext1 =\", ciphertext1.hex())\nplaintext1 = aes256_ecb_pkcs7_decrypt(ciphertext1, randomkey1)\nprint(\"plaintext1 = \", plaintext1)\n\nprint(\"\\n# ECB SECOND RUN\")\nciphertext2, randomkey2 = aes256_ecb_pkcs7_encrypt_rnd(b\"This message is important\")\nprint(\"hex_randomkey2 =\", randomkey2.hex(), \"\\nhex_ciphertext2 =\", ciphertext2.hex())\nplaintext2 = aes256_ecb_pkcs7_decrypt(ciphertext2, randomkey2)\nprint(\"plaintext2 = \", plaintext2)",
      "metadata": {},
      "execution_count": 86,
      "outputs": [
        {
          "name": "stdout",
          "output_type": "stream",
          "text": "# ECB FIRST RUN \n\nhex_randomkey1 = c1834cc8cb0920a1fcecb10b31a70f25 \n\nhex_ciphertext1 = 23491cb081079fa813153ebbf0d273f33ca1ec2e51537eb257f60f8e72ce852b\n\nplaintext1 =  b'This message is important'\n\n\n\n# ECB SECOND RUN\n\nhex_randomkey2 = ffd624015316cb4783bc748db73dc706 \n\nhex_ciphertext2 = f0abb377ac11a52dc922376d6e856ef2bcf505bf79ed9a225ccb6579d2fa38e8\n\nplaintext2 =  b'This message is important'\n"
        }
      ],
      "id": "d38fae1c-3d7d-40dc-83ec-21a998b18b1e"
    },
    {
      "cell_type": "code",
      "source": "# CHECK CBC FUNCTION\n\nprint(\"# CBC FIRST RUN\")\nciphertext1, randomkey1, randomiv1= aes256_cbc_pkcs7_encrypt_rnd(b\"This message is important\")\nprint(\"hex_randomkey1 =\", randomkey1.hex(), \"\\nhex_ciphertext1 =\", ciphertext1.hex(), \"\\nhex_randomiv1 =\", randomiv1.hex())\nplaintext1 = aes256_cbc_pkcs7_decrypt(ciphertext1, randomkey1, randomiv1)\nprint(\"plaintext1 = \", plaintext1)\n\nprint(\"\\n# CBC SECOND RUN\")\nciphertext2, randomkey2, randomiv2 = aes256_cbc_pkcs7_encrypt_rnd(b\"This message is important\")\nprint(\"hex_randomkey2 =\", randomkey2.hex(), \"\\nhex_ciphertext2 =\", ciphertext2.hex(), \"\\nhex_randomiv2 =\", randomiv2.hex())\nplaintext2 = aes256_cbc_pkcs7_decrypt(ciphertext2, randomkey2, randomiv2)\nprint(\"plaintext2 = \", plaintext2)",
      "metadata": {},
      "execution_count": 91,
      "outputs": [
        {
          "name": "stdout",
          "output_type": "stream",
          "text": "# CBC FIRST RUN\n\nhex_randomkey1 = a31af04e94cc223d9b88b8e5180a6ae6 \n\nhex_ciphertext1 = 388e2a8a6d8f554ab9e7ac1e9bb91a4cac1d8ebb4a807db0624e7788c2e5705d \n\nhex_randomiv1 = cc251967e9aa6b550711f35ddf24dcd2\n\nplaintext1 =  b'My name is Alejandro Alejandro'\n\n\n\n# CBC SECOND RUN\n\nhex_randomkey2 = 9908394368d83cb8c416db7ab31e7072 \n\nhex_ciphertext2 = b5d6f4c8905b4f2aa61229d138383e8045725168e5180c22b25367d4474585b0 \n\nhex_randomiv2 = 00f66bd25687e984d68b7bcbdb9d3e4d\n\nplaintext2 =  b'My name is Alejandro Alejandro'\n"
        }
      ],
      "id": "80b988a5-d99b-4edf-af0e-2ec3677c37cf"
    },
    {
      "cell_type": "markdown",
      "source": "## 1.4 AES256 - CTR MODE",
      "metadata": {
        "tags": []
      },
      "id": "4a161a27-eb7a-4e48-b6bd-e85ef8518bc7"
    },
    {
      "cell_type": "markdown",
      "source": "Let’s now use the CTR operation mode. You can consult the library documentation for this mode here: \nhttps://cryptography.io/en/latest/hazmat/primitives/symmetric-encryption/#cryptography.hazmat.primitives.ciphers.modes.CTR \nNotice that in this case you do not need an initialization vector, but you need a nonce to initialize the counter. ",
      "metadata": {},
      "id": "a68cce21-93c4-4f1c-a697-0a5849430c02"
    },
    {
      "cell_type": "markdown",
      "source": "### Task 1.4.1 Encrypt/decrypt with AES 256 CTR",
      "metadata": {
        "tags": []
      },
      "id": "a3c9a1f4-06c9-4514-a720-a143f9319ec7"
    },
    {
      "cell_type": "markdown",
      "source": "#### QUESTION",
      "metadata": {
        "tags": []
      },
      "id": "2019d5d6-a498-4009-9b4c-c5695de0ca6c"
    },
    {
      "cell_type": "markdown",
      "source": "<mark>Review your notes on CTR operation mode. Does CTR operation mode need padding? That is, is a requirement that the length of the data to encrypt in bytes is multiple of the cipher block size?</mark>",
      "metadata": {},
      "id": "c73ba01b-f5ca-45dd-ac26-90aa26a69e6f"
    },
    {
      "cell_type": "markdown",
      "source": "## No, it doesnt require padding so the length of the data to encrypt is arbitrary",
      "metadata": {},
      "id": "5ac9f093-7794-41a7-9dc0-5f34dae06b71"
    },
    {
      "cell_type": "markdown",
      "source": "#### TASK",
      "metadata": {},
      "id": "5dc4dd68-2b3b-46ba-8959-f47c04bd6ac7"
    },
    {
      "cell_type": "markdown",
      "source": "<mark>Write two new encryption and one decryption functions based on your AES256-CBC code but that makes use of the CTR mode instead of the CBC one. Notice that PKCS7 padding will NOT be applied.</mark>",
      "metadata": {},
      "id": "284863de-ac6c-4e8a-abc3-d0c25adfa294"
    },
    {
      "cell_type": "code",
      "source": "nonce = b'\\xf4$\\x89\\xab{\\xa4-`:\\xdeq\\xb5m\\x1b\\xd3\\x98'\n\ndef aes256_ctr_encrypt(data_to_encrypt, key, nonce):\n    #We will basically do the following :\n    #we encrypt directly without padding since its not a requirement\n    cipher = Cipher(algorithms.AES(key), modes.CTR(nonce))\n    encryptor = cipher.encryptor()\n    ciphertext = encryptor.update(data_to_encrypt) + encryptor.finalize()        \n    return ciphertext\n\n\ndef aes256_ctr_decrypt(encrypted_data, key, nonce):\n    #We will basically do the following :\n    cipher = Cipher(algorithms.AES(key), modes.CTR(nonce))\n    decryptor = cipher.decryptor()\n    plaintext = decryptor.update(encrypted_data) + decryptor.finalize()\n    return plaintext\n\n\ndef aes256_ctr_encrypt_rnd(data_to_encrypt, key=None, nonce=None):\n    if key is None and nonce is None:\n        #We will basically do the following :\n        #get random key and iv\n        key = us.random(16)\n       #we encrypt directly without padding since its not a requirement\n        cipher = Cipher(algorithms.AES(key), modes.CTR(nonce))\n        encryptor = cipher.encryptor()\n        ciphertext = encryptor.update(data_to_encrypt) + encryptor.finalize()        \n    return ciphertext, key, nonce",
      "metadata": {},
      "execution_count": 96,
      "outputs": [],
      "id": "12df94b3-76df-48de-86cb-cf8d1f4bb316"
    },
    {
      "cell_type": "markdown",
      "source": "#### CHECK",
      "metadata": {},
      "id": "ee82c58f-5f84-47ab-9e00-36e1c96de874"
    },
    {
      "cell_type": "code",
      "source": "# CHECK YOUR CODE\n\nnonce = b'\\xf4$\\x89\\xab{\\xa4-`:\\xdeq\\xb5m\\x1b\\xd3\\x98'\n\nprint(\"other_message :\", other_message)\nprint(\"key =\", key)\nprint(\"hex_key =\", key.hex())\nprint(\"nonce =\", nonce)\nprint(\"hex_nonce =\", nonce.hex())\n\nciphertext1 = aes256_ctr_encrypt(other_message, key, nonce)\nciphertext2 = aes256_ctr_encrypt(other_message+other_message, key, nonce)\n\nprint(\"ciphertext1 =\", ciphertext1.hex(), \"\\nlength ciphertext1 =\", len(ciphertext1))\nprint(\"ciphertext2 =\", ciphertext2.hex(), \"\\nlength ciphertext2 =\", len(ciphertext2))\n\nplaintext1 = aes256_ctr_decrypt(ciphertext1, key, nonce)\nplaintext2 = aes256_ctr_decrypt(ciphertext2, key, nonce)\n\nprint(\"plaintext1 =\", plaintext1)\nprint(\"plaintext2 =\", plaintext2)",
      "metadata": {},
      "execution_count": 97,
      "outputs": [
        {
          "name": "stdout",
          "output_type": "stream",
          "text": "other_message : b'This message is important'\n\nkey = b'MN\\\\\\xde\\xa1\\xf7\\x9c\\xcf\\x10A\\xa8\\x1e\\x00\\x0eeq\\xe86\\x1c\\x12\\x18\\xa6\\x10\\xfb\\xb9^\\n,0\\xa2kj'\n\nhex_key = 4d4e5cdea1f79ccf1041a81e000e6571e8361c1218a610fbb95e0a2c30a26b6a\n\nnonce = b'\\xf4$\\x89\\xab{\\xa4-`:\\xdeq\\xb5m\\x1b\\xd3\\x98'\n\nhex_nonce = f42489ab7ba42d603ade71b56d1bd398\n\nciphertext1 = a79a1e04ca64996bb6a2644692ec77449d189e30177d2992d8 \n\nlength ciphertext1 = 25\n\nciphertext2 = a79a1e04ca64996bb6a2644692ec77449d189e30177d2992d8e6e3ceba38e8690d5be581bbd93f69a7236edf40d9d900ae96 \n\nlength ciphertext2 = 50\n\nplaintext1 = b'This message is important'\n\nplaintext2 = b'This message is importantThis message is important'\n"
        }
      ],
      "id": "decc1346-07a5-4372-9d76-b469d92cb4ca"
    },
    {
      "cell_type": "markdown",
      "source": "You should obtain the following results if you encrypt <code>other_message</code> and two times <code>other_message</code> with the same <code>key</code> previously used and the provided <code>nonce</code>.\n<code>\nother_message : b'This message is important'\nkey = b'MN\\\\\\xde\\xa1\\xf7\\x9c\\xcf\\x10A\\xa8\\x1e\\x00\\x0eeq\\xe86\\x1c\\x12\\x18\\xa6\\x10\\xfb\\xb9^\\n,0\\xa2kj'\nhex_key = 4d4e5cdea1f79ccf1041a81e000e6571e8361c1218a610fbb95e0a2c30a26b6a\nnonce = b'\\xf4$\\x89\\xab{\\xa4-`:\\xdeq\\xb5m\\x1b\\xd3\\x98'\nhex_nonce = f42489ab7ba42d603ade71b56d1bd398\nciphertext1 = a79a1e04ca64996bb6a2644692ec77449d189e30177d2992d8 \nlength ciphertext1 = 25\nciphertext2 = a79a1e04ca64996bb6a2644692ec77449d189e30177d2992d8e6e3ceba38e8690d5be581bbd93f69a7236edf40d9d900ae96 \nlength  ciphertext2 = 50\nplaintext1 = b'This message is important'\nplaintext2 = b'This message is importantThis message is important'\n</code>",
      "metadata": {},
      "id": "1646a4b0-299e-440a-8d19-254a81d98681"
    },
    {
      "cell_type": "markdown",
      "source": "#### QUESTION\n\n<mark>Which length in bytes has the input data to encrypt in Task 1.4.1? And the output ciphertext? Is the length of the output ciphertext multiple of the cipher block size or not and why?</mark> ",
      "metadata": {},
      "id": "b2fb2ef9-69a3-4b17-8122-1641cfab83fe"
    },
    {
      "cell_type": "markdown",
      "source": "The input data to encrypt (\"This message is important\") is 25 Bytes long which is the same as the output ciphertext one. This length is not a multiple of the block size since operation mode CTR doesnt depend on it.",
      "metadata": {},
      "id": "0cd2908b-103e-4375-8935-afb94e72cb93"
    },
    {
      "cell_type": "markdown",
      "source": "### Task 1.4.2 Checking AES 256 CTR against CyberChef",
      "metadata": {
        "tags": []
      },
      "id": "234a2d39-dd70-49d4-b6f8-5efc33e3cbdb"
    },
    {
      "cell_type": "markdown",
      "source": "#### TASK",
      "metadata": {
        "tags": []
      },
      "id": "c7ec7a08-3a80-4884-8312-8aff8c6c1dc0"
    },
    {
      "cell_type": "markdown",
      "source": "<mark>Test again your AES256-CTR code but this time check your results using the web page tool CyberChef: https://gchq.github.io/CyberChef/ </mark>",
      "metadata": {},
      "id": "130123d6-a82e-405a-bce0-1537ffef2f5c"
    },
    {
      "cell_type": "markdown",
      "source": "## 1.5 ADDITIONAL ASPECTS OF OPERATION MODES",
      "metadata": {},
      "id": "1e1e7b9d-2812-46f6-b431-4683f0439075"
    },
    {
      "cell_type": "markdown",
      "source": "### Task 1.5.1 No-padding AES 256 ECB and CBC functions",
      "metadata": {
        "tags": []
      },
      "id": "284ddf2f-f57b-4bc6-af7e-e9a813ad1a13"
    },
    {
      "cell_type": "markdown",
      "source": "You have already been questioned about the difference in the output lengths when different operation modes are used and when padding is added or not. Now you’ll study what happens when you intentionally modify one bit (or octet) of a ciphertext and then decrypt the modified ciphertext. \n\nIn order to play with modifications in the ciphertext, it is better to avoid PKCS7 padding, as if modifications affect the padding, it will probably raise an error and you’ll not be able to study the effects of the modifications in the plaintext after decryption. ",
      "metadata": {},
      "id": "4a0616f3-a2be-49ae-84d7-70888a437c2d"
    },
    {
      "cell_type": "markdown",
      "source": "#### TASK \n\n<mark>Write a new set of functions for AES256-CBC and AES256-ECB encryption and decryption that do not apply padding.</mark>",
      "metadata": {
        "tags": []
      },
      "id": "4d17240f-899e-41ed-b938-eadc7d0ae276"
    },
    {
      "cell_type": "code",
      "source": "def aes256_cbc_encrypt(data_to_encrypt, key, iv):\n    cipher = Cipher(algorithms.AES(key), modes.CBC(iv))\n    encryptor = cipher.encryptor()\n    ciphertext = encryptor.update(data_to_encrypt) + encryptor.finalize()    \n    return ciphertext\n\ndef aes256_cbc_decrypt(encrypted_data, key, iv):\n    cipher = Cipher(algorithms.AES(key), modes.CBC(iv))\n    decryptor = cipher.decryptor()\n    plaintext = decryptor.update(encrypted_data) + decryptor.finalize()    \n    return plaintext\n\ndef aes256_ecb_encrypt(data_to_encrypt, key):\n    cipher = Cipher(algorithms.AES(key), modes.ECB())\n    encryptor = cipher.encryptor()\n    ciphertext = encryptor.update(data_to_encrypt) + encryptor.finalize()        \n    return ciphertext\n\ndef aes256_ecb_decrypt(encrypted_data, key):\n    cipher = Cipher(algorithms.AES(key), modes.ECB())\n    decryptor = cipher.decryptor()\n    plaintext = decryptor.update(encrypted_data) + decryptor.finalize()    \n    return plaintext\n",
      "metadata": {},
      "execution_count": 113,
      "outputs": [],
      "id": "8872c1a2-0c06-475f-b917-3ed6bbd6e72f"
    },
    {
      "cell_type": "markdown",
      "source": "#### CHECK\n\nTest your functions by encrypting messages with length in chars multiple of 16 and then decrypting the resulting ciphertext.",
      "metadata": {
        "tags": []
      },
      "id": "69823b9e-e0bd-4ec8-967a-9e8b78222e4c"
    },
    {
      "cell_type": "code",
      "source": "# CHECKING YOUR CODE\nmessage = b'a secret message' #message multiple of 16 bytes long\nprint(\"length\", len(message))\nkey = b'MN\\\\\\xde\\xa1\\xf7\\x9c\\xcf\\x10A\\xa8\\x1e\\x00\\x0eeq\\xe86\\x1c\\x12\\x18\\xa6\\x10\\xfb\\xb9^\\n,0\\xa2kj'\niv = b'\\x7f\\xb3W\\x84\\x1a9KN~\\xafs\\xfc\\x9f\\xb6\\xcc\\xb8'\nprint(\"message to encrypt and decrypt ->\", message)\nprint(\"key :\", key)\nprint(\"hex_key :\", key.hex())\nprint(\"iv :\", iv)\nprint(\"hex_iv :\", iv.hex())\n\nprint(\"AES256-CBC ciphertext: \", aes256_cbc_encrypt(message, key, iv))\nprint(\"AES256-CBC plaintext: \", aes256_cbc_decrypt(aes256_cbc_encrypt(message, key, iv), key, iv))\n\nprint(\"AES256-ECB ciphertext: \", aes256_ecb_encrypt(message, key))\nprint(\"AES256-ECB plaintext: \", aes256_ecb_decrypt(aes256_ecb_encrypt(message, key), key))",
      "metadata": {},
      "execution_count": 117,
      "outputs": [
        {
          "name": "stdout",
          "output_type": "stream",
          "text": "length 16\n\nmessage to encrypt and decrypt -> b'a secret message'\n\nkey : b'MN\\\\\\xde\\xa1\\xf7\\x9c\\xcf\\x10A\\xa8\\x1e\\x00\\x0eeq\\xe86\\x1c\\x12\\x18\\xa6\\x10\\xfb\\xb9^\\n,0\\xa2kj'\n\nhex_key : 4d4e5cdea1f79ccf1041a81e000e6571e8361c1218a610fbb95e0a2c30a26b6a\n\niv : b'\\x7f\\xb3W\\x84\\x1a9KN~\\xafs\\xfc\\x9f\\xb6\\xcc\\xb8'\n\nhex_iv : 7fb357841a394b4e7eaf73fc9fb6ccb8\n\nAES256-CBC ciphertext:  b';\\xa6\\xe5\\x85;^\\xc2&\\xec\\x07|\\x03\\xcc\\r\\xaeN'\n\nAES256-CBC plaintext:  b'a secret message'\n\nAES256-ECB ciphertext:  b'i\\xb0a\\x1b\\x95\\x8f\\x16\\xd6\\xed1\\xc6\\xfc\\xa5\\xab\\xd5F'\n\nAES256-ECB plaintext:  b'a secret message'\n"
        }
      ],
      "id": "b05929ba-f407-4ffa-b2c0-4435b98711ed"
    },
    {
      "cell_type": "markdown",
      "source": "With the previously used values for <code>message</code>, <code>key</code> and <code>iv</code>, you should obtain the following results:\n<code>\nmessage : b'a secret message'\nkey : b'MN\\\\\\xde\\xa1\\xf7\\x9c\\xcf\\x10A\\xa8\\x1e\\x00\\x0eeq\\xe86\\x1c\\x12\\x18\\xa6\\x10\\xfb\\xb9^\\n,0\\xa2kj'\nhex_key : 4d4e5cdea1f79ccf1041a81e000e6571e8361c1218a610fbb95e0a2c30a26b6a\niv : b'\\x7f\\xb3W\\x84\\x1a9KN~\\xafs\\xfc\\x9f\\xb6\\xcc\\xb8'\nhex_iv : 7fb357841a394b4e7eaf73fc9fb6ccb8\nAES256-CBC ciphertext:  b';\\xa6\\xe5\\x85;^\\xc2&\\xec\\x07|\\x03\\xcc\\r\\xaeN'\nAES256-CBC plaintext:  b'a secret message'\nAES256-ECB ciphertext:  b'i\\xb0a\\x1b\\x95\\x8f\\x16\\xd6\\xed1\\xc6\\xfc\\xa5\\xab\\xd5F'\nAES256-ECB plaintext:  b'a secret message'\n</code>",
      "metadata": {},
      "id": "acfc26c3-41b5-4408-b88e-5874dcc0284a"
    },
    {
      "cell_type": "markdown",
      "source": "### Task 1.5.2 Effects of modifying ciphertext under different operation modes ",
      "metadata": {
        "tags": []
      },
      "id": "48543eba-f832-4b05-9efc-65dd88e1cc3a"
    },
    {
      "cell_type": "markdown",
      "source": "#### TASK\n\n<mark>Now, analyse how the decrypted plaintext changes after modifying one bit of the ciphertext at different positions (one in the first block, another in the second block…).</mark>\n\nSuggested steps:\n- Select a message with at least 48-char length (remember that the length in char has to be multiple of 16)\n- Select a key, and iv and nonce if necessary\n- Encrypt the message operating the cipher with the selected mode\n- Save the ciphertext in one variable (ciphertext)\n- Modify the previous ciphertext in one bit and save the result in another variable (modified_ciphertext)\n- Decrypt both the ciphertext and its modified version, saving the decryptions, respectively, in two variables plaintext and modified_plaintext\n- Analyse how the ciphertext modification has affected the plaintext",
      "metadata": {
        "tags": []
      },
      "id": "ad18bce3-0979-4864-ac9c-005da5ea3f4f"
    },
    {
      "cell_type": "code",
      "source": "# YOUR CODE HERE\n#ANALYSIS OF INFLUENCE OF A BYTE VARIATION ON THE CIPHERTEXT IN THE DECRYPTION USING CBC\nmessage = b'aaaaaaaaaaaaaaaaaaaaaaaaaaaaaaaaaaaaaaaaaaaaaaaa' #message multiple of 16, concretely 48 Bytes long(minimum here)\nkey = b'MN\\\\\\xde\\xa1\\xf7\\x9c\\xcf\\x10A\\xa8\\x1e\\x00\\x0eeq\\xe86\\x1c\\x12\\x18\\xa6\\x10\\xfb\\xb9^\\n,0\\xa2kj'\niv = b'\\x7f\\xb3W\\x84\\x1a9KN~\\xafs\\xfc\\x9f\\xb6\\xcc\\xb8'\nprint(\"message is -> \",message,\"\\nlength\", len(message),\"Bytes\")\nct = aes256_cbc_encrypt(message, key, iv) #consider no padding here since we will always give multiple of 16, >=48\nmodified_ct = ct\n",
      "metadata": {},
      "execution_count": 124,
      "outputs": [
        {
          "name": "stdout",
          "output_type": "stream",
          "text": "message is ->  b'aaaaaaaaaaaaaaaaaaaaaaaaaaaaaaaaaaaaaaaaaaaaaaaa' \n\nlength 48 Bytes\n"
        }
      ],
      "id": "de823411-336a-4bd1-82af-8cfe5ff77d37"
    },
    {
      "cell_type": "markdown",
      "source": "#### QUESTION\n\n<mark>How many bits (or bytes) are affected in each case (ECB, CBC, CTR)? Which are their positions? Can you explain the reasons in each case considering the course notes on operation modes?</mark>",
      "metadata": {},
      "id": "6a971bfc-5d79-4e7b-8e97-c113ce60892a"
    },
    {
      "cell_type": "markdown",
      "source": "YOUR ANSWER HERE",
      "metadata": {},
      "id": "ee326d5e-6853-46c3-b085-eb50fddc9e48"
    },
    {
      "cell_type": "markdown",
      "source": "## 1.6 OTHER CIPHERS AND KEY SIZES",
      "metadata": {},
      "id": "bc7dfab1-5113-42e9-a4dc-1c1bac0a94fc"
    },
    {
      "cell_type": "markdown",
      "source": "### Task 1.6.1 Camellia symmetric block cipher",
      "metadata": {},
      "id": "3132b0d0-618d-4249-a37f-51c11c797713"
    },
    {
      "cell_type": "markdown",
      "source": "#### TASK",
      "metadata": {},
      "id": "414f2a13-7142-4807-a901-123f60e0e521"
    },
    {
      "cell_type": "markdown",
      "source": "<mark>Now, create new functions similar to the ones already coded but that in this case use the Camellia cipher and other key sizes. Consult the library documentation to know more about the Camellia cipher and available key sizes for both AES and Camellia.</mark>",
      "metadata": {},
      "id": "729d680a-c096-46dc-ac02-7deb75d565df"
    },
    {
      "cell_type": "code",
      "source": "def Camellia_cbc_encrypt(data_to_encrypt, key, iv):\n    #We will basically do the following :\n    #Step 1: Pad the data to have a length multiple of 16 Bytes\n    padder = padding.PKCS7(128).padder()\n    padded_data = padder.update(data_to_encrypt)\n    padded_data += padder.finalize()\n    #Step 2: Encrypt the padded data to encrypt using AES with 16 Bytes blocks size\n    cipher = Cipher(algorithms.Camellia(key), modes.CBC(iv))\n    encryptor = cipher.encryptor()\n    ciphertext = encryptor.update(padded_data) + encryptor.finalize()\n    return ciphertext\ndef Camellia_cbc_decrypt(encrypted_data, key, iv):\n    #We will basically do the following :\n    #Step 1: Decrypt the padded encrypted_data \n    cipher = Cipher(algorithms.Camellia(key), modes.CBC(iv))\n    decryptor = cipher.decryptor()\n    padded_plaintext = decryptor.update(encrypted_data) + decryptor.finalize()\n    #Step 2 : Unpad the padded part\n    unpadder = padding.PKCS7(128).unpadder()\n    plaintext = unpadder.update(padded_plaintext)\n    plaintext = message +unpadder.finalize()\n    return plaintext\nmessage = b'Hello world bhow are you foinklfdgd' #message not of 16, concretely 48 Bytes long(minimum here)\nprint(\"Message -> \", message , \"\\nlength : \",len(message))\nkey = b'MN\\\\\\xde\\xa1\\xf7\\x9c\\xcf\\x10A\\xa8\\x1e\\x00\\x0eeq\\xe86\\x1c\\x12\\x18\\xa6\\x10\\xfb\\xb9^\\n,0\\xa2kj'\nct = Camellia_cbc_encrypt(message,key,iv)\nprint(\"Ciphertext after using Camellia encryption : \", ct)\nprint(\"Ciphertext decrypted using Camellia decryption : \",  Camellia_cbc_decrypt(ct,key,iv))",
      "metadata": {},
      "execution_count": 137,
      "outputs": [
        {
          "name": "stdout",
          "output_type": "stream",
          "text": "Message ->  b'Hello world bhow are you foinklfdgd' \n\nlength :  35\n\nCiphertext after using Camellia encryption :  b\"8\\xa3C'\\xa4&[JTQ\\xe5Lg\\xbc\\xf90f+\\x19l\\x14cmz\\xf3`A\\xd1V\\x9b\\x0f\\xc3\\x93\\x91\\xbd5>^<\\xdbQ0\\x04\\xfe\\xb0\\xaa\\x85}\"\n\nCiphertext decrypted using Camellia decryption :  b'Hello world bhow are you foinklfdgddgd'\n"
        }
      ],
      "id": "6c73bd2a-8e7a-4150-bd17-33317bf86242"
    },
    {
      "cell_type": "markdown",
      "source": "## 1.7 EXCHANGING SECRET MESSAGES WITH A PARTNER",
      "metadata": {},
      "id": "e8e1b2f8-de7d-4d2f-a1fe-3dd0f9914135"
    },
    {
      "cell_type": "markdown",
      "source": "### Task 1.7.1 Exchanging secret messages",
      "metadata": {},
      "id": "d81a8389-b81a-4fc0-8cac-3755a52deea9"
    },
    {
      "cell_type": "markdown",
      "source": "#### TASK",
      "metadata": {},
      "id": "39d1fbcb-a6d4-47fc-8b4d-d095a8eb3218"
    },
    {
      "cell_type": "markdown",
      "source": "<mark>Choose a partner among your classmates and exchange with him/her secret messages. You’ll need to send the key and other needed parameters along with the ciphertext. The receiver will also need to know the used algorithm, operation mode and key/block size if there are available more than one.</mark>\n\n**Notice that in real life keys should NEVER be sent UNPROTECTED.**",
      "metadata": {},
      "id": "78cb7773-97ef-4e64-b2f2-4a5718d2af33"
    },
    {
      "cell_type": "markdown",
      "source": "# 2. Symmetric Stream Ciphers",
      "metadata": {},
      "id": "3ec4fb6b-6d69-4c9a-b47a-0b75268b474f"
    },
    {
      "cell_type": "markdown",
      "source": "Next, you’ll learn how to encrypt a simple text with symmetric stream ciphers. First, you’ll use the CHACHA20 cipher and then you’ll use the pylfsr library to generate pseudorandom key streams using LFSRs.",
      "metadata": {},
      "id": "18b1e1e1-88a9-4e8c-b81e-5ef40811ab86"
    },
    {
      "cell_type": "markdown",
      "source": "## 2.1 CHACHA20 STREAM CIPHER",
      "metadata": {},
      "id": "7ed5d84c-fce4-4d7f-96b4-8a8d8d326757"
    },
    {
      "cell_type": "markdown",
      "source": "### Task 2.1.1 CHACHA20 encryption/decryption functions",
      "metadata": {},
      "id": "976d2f70-56d4-4c66-91a6-df663831f56a"
    },
    {
      "cell_type": "markdown",
      "source": "#### TASK",
      "metadata": {},
      "id": "bce4e8bf-9b43-411d-a454-2e599c47aaa2"
    },
    {
      "cell_type": "markdown",
      "source": "Now read the information and take the code provided as example in the following web page section: \nhttps://cryptography.io/en/latest/hazmat/primitives/symmetric-encryption/#cryptography.hazmat.primitives.ciphers.algorithms.ChaCha20\n\nTake the code in the example and use it as base to create the functions whose headers are defined next. Test your functions with the data and results of Code Snippet 29 and Code Snippet 30. ",
      "metadata": {},
      "id": "300a6fce-8d81-46a8-84a5-dac8b77da6df"
    },
    {
      "cell_type": "code",
      "source": "def chacha20_encrypt(message, key, nonce):\n    from cryptography.hazmat.primitives.ciphers import Cipher, algorithms, modes\n    algorithm = algorithms.ChaCha20(key, nonce)\n    cipher = Cipher(algorithm, mode=None)\n    encryptor = cipher.encryptor()\n    ciphertext = encryptor.update(message)\n    return ciphertext\n\ndef chacha20_encrypt_rnd(message, key=None, nonce=None):\n    if key is None:\n        key = os.urandom(32)    # key must have 256 bits\n        from cryptography.hazmat.primitives.ciphers import Cipher, algorithms, modes\n        algorithm = algorithms.ChaCha20(key, nonce)\n        cipher = Cipher(algorithm, mode=None)\n        encryptor = cipher.encryptor()\n        ciphertext = encryptor.update(message)\n    return ciphertext\n    if nonce is None:\n        nonce = os.urandom(16)   # nonce must have 128 bits\n        from cryptography.hazmat.primitives.ciphers import Cipher, algorithms, modes\n        algorithm = algorithms.ChaCha20(key, nonce)\n        cipher = Cipher(algorithm, mode=None)\n        encryptor = cipher.encryptor()\n        ciphertext = encryptor.update(message)\n    return ciphertext, key, nonce;\n\ndef chacha20_decrypt(ciphertext, key, nonce):\n    decryptor = cipher.decryptor()\n    decryptor.update(ct)    \n    return plaintext",
      "metadata": {},
      "execution_count": 140,
      "outputs": [],
      "id": "0870f01b-4cb4-44cb-851e-1b12f83f3b4a"
    },
    {
      "cell_type": "markdown",
      "source": "#### CHECK",
      "metadata": {},
      "id": "2ac01d73-5ae6-4fcd-8db5-e2dfb1fd3db4"
    },
    {
      "cell_type": "code",
      "source": "# Check your code\nmessage = b'a secret message'\n\n\nprint(\"message :\", message)\nprint(\"other_message :\", other_message)\nprint(\"key =\", key)\nprint(\"hex_key =\", key.hex())\nprint(\"nonce =\", nonce)\nprint(\"hex_nonce =\", nonce.hex())\n\nprint(\"ciphertext chacha20 message=\", chacha20_encrypt(message, key, nonce))\nprint(\"hex_ciphertext chacha20 message=\", chacha20_encrypt(message, key, nonce).hex())\n\nprint(\"plaintext chacha20 message=\", chacha20_decrypt(chacha20_encrypt(message, key, nonce), key, nonce))\nprint(\"hex_plaintext chacha20 message=\", chacha20_decrypt(chacha20_encrypt(message, key, nonce), key, nonce).hex())\n\nprint(\"ciphertext chacha20 other_message=\", chacha20_encrypt(other_message, key, nonce))\nprint(\"hex_ciphertext chacha20 other_message=\", chacha20_encrypt(other_message, key, nonce).hex())\n\nprint(\"plaintext chacha20 other_message=\", chacha20_decrypt(chacha20_encrypt(other_message, key, nonce), key, nonce))\nprint(\"hex_plaintext chacha20 other_message=\", chacha20_decrypt(chacha20_encrypt(other_message, key, nonce), key, nonce).hex())\n",
      "metadata": {},
      "execution_count": 145,
      "outputs": [
        {
          "name": "stdout",
          "output_type": "stream",
          "text": "message : b'a secret message'\n\nother_message : b'This message is important'\n\nkey = b'MN\\\\\\xde\\xa1\\xf7\\x9c\\xcf\\x10A\\xa8\\x1e\\x00\\x0eeq\\xe86\\x1c\\x12\\x18\\xa6\\x10\\xfb\\xb9^\\n,0\\xa2kj'\n\nhex_key = 4d4e5cdea1f79ccf1041a81e000e6571e8361c1218a610fbb95e0a2c30a26b6a\n\nnonce = b'\\xf4$\\x89\\xab{\\xa4-`:\\xdeq\\xb5m\\x1b\\xd3\\x98'\n\nhex_nonce = f42489ab7ba42d603ade71b56d1bd398\n\nciphertext chacha20 message= b'Q\\x02\\x96\\x92\\xed\\xc1\\x90-\\x97r\\xaa/.\\xb3`\\xfd'\n\nhex_ciphertext chacha20 message= 51029692edc1902d9772aa2f2eb360fd\n\nplaintext chacha20 message= b'Hello world bhow are you foinklfdgddgd'\n\nhex_plaintext chacha20 message= 48656c6c6f20776f726c642062686f772061726520796f7520666f696e6b6c66646764646764\n\nciphertext chacha20 other_message= b'dJ\\x8c\\x84\\xae\\xde\\x90*\\xc4~\\xa89}\\xbbt\\xb8\\x19G\\xa7!\\xac7\\xed8z'\n\nhex_ciphertext chacha20 other_message= 644a8c84aede902ac47ea8397dbb74b81947a721ac37ed387a\n\nplaintext chacha20 other_message= b'Hello world bhow are you foinklfdgddgd'\n\nhex_plaintext chacha20 other_message= 48656c6c6f20776f726c642062686f772061726520796f7520666f696e6b6c66646764646764\n"
        }
      ],
      "id": "e36d9366-a6e6-4bba-932d-135ce9d8fecb"
    },
    {
      "cell_type": "markdown",
      "source": "You should obtain the following result:\n<code>\nmessage : b'a secret message'\nother_message : b'This message is important'\nkey = b'MN\\\\\\xde\\xa1\\xf7\\x9c\\xcf\\x10A\\xa8\\x1e\\x00\\x0eeq\\xe86\\x1c\\x12\\x18\\xa6\\x10\\xfb\\xb9^\\n,0\\xa2kj'\nhex_key = 4d4e5cdea1f79ccf1041a81e000e6571e8361c1218a610fbb95e0a2c30a26b6a\nnonce = b'\\xf4$\\x89\\xab{\\xa4-`:\\xdeq\\xb5m\\x1b\\xd3\\x98'</code>\n\n<code>hex_nonce = f42489ab7ba42d603ade71b56d1bd398\nciphertext chacha20 message= b'Q\\x02\\x96\\x92\\xed\\xc1\\x90-\\x97r\\xaa/.\\xb3`\\xfd'\nhex_ciphertext chacha20 message= 51029692edc1902d9772aa2f2eb360fd\nplaintext chacha20 message= b'a secret message'\nhex_plaintext chacha20 message= 6120736563726574206d657373616765\nciphertext chacha20 other_message= b'dJ\\x8c\\x84\\xae\\xde\\x90*\\xc4~\\xa89}\\xbbt\\xb8\\x19G\\xa7!\\xac7\\xed8z'\nhex_ciphertext chacha20 other_message= 644a8c84aede902ac47ea8397dbb74b81947a721ac37ed387a\nplaintext chacha20 other_message= b'This message is important'\nhex_plaintext chacha20 other_message= 54686973206d65737361676520697320696d706f7274616e74  \n</code>",
      "metadata": {},
      "id": "6e4b1a03-b267-4ddf-b9ef-e6264a6905ea"
    },
    {
      "cell_type": "markdown",
      "source": "## 2.2 GENERATING KEYSTREAMS WITH LFSRS",
      "metadata": {},
      "id": "56e2918c-132f-478a-96fd-d574e4341190"
    },
    {
      "cell_type": "markdown",
      "source": "Now you’ll make use of the pylfsr library (https://lfsr.readthedocs.io/en/latest/index.html and https://pypi.org/project/pylfsr/). This library generates pseudorandom bit streams using, among other generators, LFSRs. It requires to have installed the numpy library, and in the case that you are using pylfsr’s graphical functions, the matplotlib library. ",
      "metadata": {},
      "id": "a282d97e-bbe0-4a5c-920c-3aad6f18195c"
    },
    {
      "cell_type": "markdown",
      "source": "### Task 2.2.1 Generating a key stream",
      "metadata": {},
      "id": "74b8dc61-f39a-463a-abda-cd4278a5a81f"
    },
    {
      "cell_type": "markdown",
      "source": "Have a look at the information presented in web page https://lfsr.readthedocs.io/en/latest/index.html. \nConsider the example “Example 2: 5-bit LFSR with custum state and feedback polynomial”: https://lfsr.readthedocs.io/en/latest/LFSR_Examples.html#example-2-5-bit-lfsr-with-custum-state-and-feedback-polynomial ",
      "metadata": {},
      "id": "545fc0a0-284c-4f99-b0e2-5aed9a95a24b"
    },
    {
      "cell_type": "markdown",
      "source": "#### TASK",
      "metadata": {},
      "id": "16da46ee-5d3c-4d87-a088-cf06028399ce"
    },
    {
      "cell_type": "markdown",
      "source": "<mark>Using the code in the example, generate 10 bits using primitive polynomial $x^5 + x^4 + x^3+ x^2 + 1$</mark>",
      "metadata": {},
      "id": "7885d66c-81c7-41ba-90ee-23631c55c71c"
    },
    {
      "cell_type": "code",
      "source": "# from pylfsr import LFSR\n\nstate = [0, 0, 0, 1, 0]   # seed = S1 S2 S3 S4 S5 \nfpoly = [5,4,3,2]         # polynomial C5=1 C4=1 C3=1 C2=1 C1=0\nL = LFSR(fpoly=fpoly, initstate=state, verbose=True)  # LFSR initialization\nL.info()                  # prints information of the configured LFSR\ntempseq = L.runKCycle(10) # generation of 10 bits ",
      "metadata": {},
      "execution_count": 148,
      "outputs": [
        {
          "name": "stdout",
          "output_type": "stream",
          "text": "5 bit LFSR with feedback polynomial  x^5 + x^4 + x^3 + x^2 + 1\n\nExpected Period (if polynomial is primitive) =  31\n\nCurrent :\n\n State        :  [0 0 0 1 0]\n\n Count        :  0\n\n Output bit   :  -1\n\n feedback bit :  -1\n\nS:  [0 0 0 1 0]\n\nS:  [1 0 0 0 1]\n\nS:  [1 1 0 0 0]\n\nS:  [1 1 1 0 0]\n\nS:  [0 1 1 1 0]\n\nS:  [1 0 1 1 1]\n\nS:  [1 1 0 1 1]\n\nS:  [1 1 1 0 1]\n\nS:  [1 1 1 1 0]\n\nS:  [1 1 1 1 1]\n"
        }
      ],
      "id": "40a1d68e-0c1b-4c80-9f9f-d30ebb9e4eb8"
    },
    {
      "cell_type": "markdown",
      "source": "#### CHECK",
      "metadata": {},
      "id": "2474876d-d3eb-4629-863f-6b4f1613ecd7"
    },
    {
      "cell_type": "markdown",
      "source": "The generated sequence is returned to the variable <code>tempseq</code>. Print its value and check that you obtain the same result as shown next: <code> [0 1 0 0 0 1 1 1 0 1] </code>",
      "metadata": {},
      "id": "f450a981-a8df-4ecb-b358-09166ca3a2c4"
    },
    {
      "cell_type": "code",
      "source": "# YOUR CODE HERE\nprint(tempseq)",
      "metadata": {},
      "execution_count": 149,
      "outputs": [
        {
          "name": "stdout",
          "output_type": "stream",
          "text": "[0 1 0 0 0 1 1 1 0 1]\n"
        }
      ],
      "id": "ef1650b6-5c13-4d06-ba72-d61428cb00c8"
    },
    {
      "cell_type": "markdown",
      "source": "### Task 2.2.2 Checking that you generate the same keystream ",
      "metadata": {},
      "id": "64936ac7-c797-40c6-9b63-d8f523a19507"
    },
    {
      "cell_type": "markdown",
      "source": "#### TASK",
      "metadata": {},
      "id": "98f25f62-81b3-4fad-94f9-3dda4eb225d1"
    },
    {
      "cell_type": "markdown",
      "source": "<mark>Make sure you understand how the class works by checking by hand that the code obtains the same 10-bit sequence that you compute. Use the same parameters:</mark>\n- <mark>poly(x) = $x^5 + x^4 + x^3+ x^2 + 1 $</mark>\n- <mark>seed = [S1 S2 S3 S4 S5] = [0, 0, 0, 1, 0]</mark>",
      "metadata": {},
      "id": "57b75366-cef9-4a14-8860-52e19e1507c2"
    },
    {
      "cell_type": "code",
      "source": "",
      "metadata": {},
      "execution_count": null,
      "outputs": [],
      "id": "5cb6b012-8604-4187-b262-cb5c26f9f4d1"
    }
  ]
}